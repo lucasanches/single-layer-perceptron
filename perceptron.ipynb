{
 "cells": [
  {
   "cell_type": "markdown",
   "metadata": {},
   "source": [
    "#### Importando bibliotecas"
   ]
  },
  {
   "cell_type": "code",
   "execution_count": 8,
   "metadata": {},
   "outputs": [],
   "source": [
    "import pandas as pd\n",
    "import numpy as np"
   ]
  },
  {
   "cell_type": "markdown",
   "metadata": {},
   "source": [
    "#### Importando os datasets de treinamento e teste"
   ]
  },
  {
   "cell_type": "code",
   "execution_count": 18,
   "metadata": {},
   "outputs": [],
   "source": [
    "# Carregando os datasets\n",
    "df_train_loaded = pd.read_csv(\"arquivos_csv/train_dataset1.csv\")\n",
    "df_test_loaded = pd.read_csv(\"arquivos_csv/test_dataset1.csv\")\n",
    "\n",
    "# Separando os dados de treinamento\n",
    "X_train = df_train_loaded.drop(\"label\", axis=1).values.T # (n_features, n_amostras)\n",
    "y_train = df_train_loaded[\"label\"].values.reshape(1, -1) # (1, n_amostras)\n",
    "\n",
    "# Separando os dados de teste\n",
    "X_test = df_test_loaded.drop(\"label\", axis=1).values.T\n",
    "y_test = df_test_loaded[\"label\"].values.reshape(1, -1)"
   ]
  }
 ],
 "metadata": {
  "kernelspec": {
   "display_name": "Python 3",
   "language": "python",
   "name": "python3"
  },
  "language_info": {
   "codemirror_mode": {
    "name": "ipython",
    "version": 3
   },
   "file_extension": ".py",
   "mimetype": "text/x-python",
   "name": "python",
   "nbconvert_exporter": "python",
   "pygments_lexer": "ipython3",
   "version": "3.12.8"
  }
 },
 "nbformat": 4,
 "nbformat_minor": 2
}
